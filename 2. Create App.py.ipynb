{
 "cells": [
  {
   "cell_type": "markdown",
   "metadata": {},
   "source": [
    "# Map of Washington State & North Carolina School Districts \n",
    "\n",
    "We want an interative map where you can select a measure of teacher quality (experience, licensure test scores, or value added), a measure of student disadvantage (URM or FRL), a year, and a state (North Carolina or Washington), and you could see a map of the distribution of teacher quality gaps for that combination of measures. \n",
    "\n",
    "## Dash\n",
    "\n",
    "Try to recreate Dash App of \"[Rate of US Poison-Induced Deaths](https://opioid-epidemic.herokuapp.com/)\". App.py code found [here](https://github.com/plotly/dash-opioid-epidemic-demo/blob/master/app.py). \n",
    "\n",
    "## Steps\n",
    "\n",
    "* Create layout and interaction features that will go into app.py (Dash application)\n",
    "* Test in Jupyter Notebook then create Heroku app. "
   ]
  },
  {
   "cell_type": "code",
   "execution_count": 1,
   "metadata": {},
   "outputs": [],
   "source": [
    "# -*- coding: utf-8 -*-\n",
    "import dash\n",
    "import dash_core_components as dcc\n",
    "import dash_html_components as html\n",
    "from dash.dependencies import Input, Output, State\n",
    "import dash_colorscales\n",
    "import pandas as pd\n",
    "import json\n",
    "import numpy as np\n",
    "import geopandas as gpd\n",
    "import os\n",
    "import requests"
   ]
  },
  {
   "cell_type": "markdown",
   "metadata": {},
   "source": [
    "## Dash App"
   ]
  },
  {
   "cell_type": "code",
   "execution_count": 2,
   "metadata": {},
   "outputs": [],
   "source": [
    "os.chdir(r'H:\\CALDER\\CALDER Data Visualizations\\Data\\Teacher Quality Gap - Washington\\Outcomes')"
   ]
  },
  {
   "cell_type": "code",
   "execution_count": 3,
   "metadata": {},
   "outputs": [],
   "source": [
    "app = dash.Dash()\n",
    "\n",
    "app.css.append_css({\"external_url\": \"https://codepen.io/chriddyp/pen/bWLwgP.css\"}) \n",
    "\n",
    "DEFAULT_COLORSCALE = [\"#2a4858\", \"#265465\", \"#1e6172\", \"#106e7c\", \"#007b84\", \\\n",
    "\t\"#00898a\", \"#00968e\", \"#19a390\", \"#31b08f\", \"#4abd8c\", \"#64c988\", \\\n",
    "\t\"#80d482\", \"#9cdf7c\", \"#bae976\", \"#d9f271\", \"#fafa6e\"]\n",
    "\n",
    "DEFAULT_OPACITY = 0.8\n",
    "\n",
    "mapbox_access_token = 'pk.eyJ1Ijoib3R0ZWhlbmciLCJhIjoiY2plaXltZW1pMHE4YjJxbmw1ZGgxbmJqdiJ9.wqmpkvPainkE7w-Wy-4tlA'\n",
    "\n",
    "washbins = "
   ]
  },
  {
   "cell_type": "code",
   "execution_count": null,
   "metadata": {},
   "outputs": [],
   "source": [
    "# Organize where items will be on the page\n",
    "app.layout = html.Div([\n",
    "        html.H3(\n",
    "            children='Aggregated Number of Graduates in Education by State',\n",
    "            style={'textAlign': 'center', 'fontFamily' : 'Georgia'}\n",
    "        ),\n",
    "        \n",
    "        html.Div([          \n",
    "            html.Div([\n",
    "                html.Div([html.P('Select a State from the drop down below',id='state-title')],\n",
    "                    style={'textAlign': 'center', 'fontFamily': 'Georgia'}),\n",
    "                dcc.Dropdown(\n",
    "                    id='state-id',\n",
    "                    options=[{'label': i, 'value': i} for i in state],\n",
    "                    value = 'Alaska'\n",
    "                )\n",
    "            ],\n",
    "            style={'width': '48%', 'display': 'inline-block', 'fontFamily' : 'Georgia'}),\n",
    "            \n",
    "        html.Div([\n",
    "            html.Div([html.P('Select Totals by broad CIP categories and Award type',id='indicator-title')],\n",
    "                style={'textAlign': 'center', 'fontFamily' : 'Georgia'}),\n",
    "            dcc.Dropdown(\n",
    "                id='indicator-id',\n",
    "                options=[{'label': i , 'value': i} for i in available_indicators],\n",
    "                value=['State Total'],\n",
    "                multi=True # This treats items as a list. \n",
    "                )\n",
    "            ],\n",
    "            style={'width':'48%', 'float': 'right', 'display': 'inline-block', 'fontFamily' : 'Georgia'})\n",
    "        ]),\n",
    "        \n",
    "        dcc.Graph(\n",
    "            id='indicator-graphic',\n",
    "            config={'modeBarButtonsToRemove': ['sendDataToCloud', 'lasso2d', 'zoomIn2d', 'zoomOut2d', 'pan2d', 'zoom2d',\n",
    "                                              'resetScale2d'], \n",
    "                   'displaylogo': False}),\n",
    "        \n",
    "        html.Div([\n",
    "            html.P('Note: National Totals do not include US territories.', id='below-graph-text')],\n",
    "            style={'textAlign': 'left', 'fontFamily': 'Georgia', 'fontSize': '11'})\n",
    "    ])\n"
   ]
  }
 ],
 "metadata": {
  "kernelspec": {
   "display_name": "Python 3",
   "language": "python",
   "name": "python3"
  },
  "language_info": {
   "codemirror_mode": {
    "name": "ipython",
    "version": 3
   },
   "file_extension": ".py",
   "mimetype": "text/x-python",
   "name": "python",
   "nbconvert_exporter": "python",
   "pygments_lexer": "ipython3",
   "version": "3.6.1"
  }
 },
 "nbformat": 4,
 "nbformat_minor": 2
}
